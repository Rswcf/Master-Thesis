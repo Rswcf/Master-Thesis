{
 "cells": [
  {
   "cell_type": "code",
   "execution_count": 1,
   "metadata": {
    "colab": {},
    "colab_type": "code",
    "executionInfo": {
     "elapsed": 2160,
     "status": "ok",
     "timestamp": 1595318179178,
     "user": {
      "displayName": "Yijie Ma",
      "photoUrl": "",
      "userId": "09788293913722149866"
     },
     "user_tz": -120
    },
    "id": "lmpk6NB6m5wW"
   },
   "outputs": [],
   "source": [
    "import os\n",
    "import random\n",
    "import tensorflow as tf\n",
    "import pandas as pd\n",
    "import numpy as np\n",
    "import shutil\n",
    "import seaborn\n",
    "from tensorflow.keras.optimizers import RMSprop\n",
    "from tensorflow.keras.preprocessing.image import ImageDataGenerator\n",
    "from tensorflow.keras.applications.vgg16 import VGG16\n",
    "from tensorflow.keras import layers\n",
    "from tensorflow.keras import Model\n",
    "import matplotlib.pyplot as plt\n",
    "from tensorflow.keras.callbacks import EarlyStopping, LearningRateScheduler, ModelCheckpoint, CSVLogger, ReduceLROnPlateau\n",
    "from sklearn.metrics import confusion_matrix\n",
    "from sklearn.metrics import multilabel_confusion_matrix\n",
    "from sklearn.metrics import classification_report\n"
   ]
  },
  {
   "cell_type": "code",
   "execution_count": 2,
   "metadata": {
    "colab": {},
    "colab_type": "code",
    "executionInfo": {
     "elapsed": 383,
     "status": "ok",
     "timestamp": 1595318179180,
     "user": {
      "displayName": "Yijie Ma",
      "photoUrl": "",
      "userId": "09788293913722149866"
     },
     "user_tz": -120
    },
    "id": "itY1Y4eiFkst"
   },
   "outputs": [],
   "source": [
    "# src_path: input the path of the folder, where the whole data is stored\n",
    "# label_path: dataframe which includes label data\n",
    "\n",
    "src_path=\"C:/MA_Yijie_Ma/0_Datensatz/0_Training_Datensatz/1_40_Spulen/TrainingsDatensatz\"\n",
    "label_path = os.path.join(src_path, \"40_Spulen_v1.csv\")\n",
    "saveModel_path = \"D:/MA_Yijie_Ma/0_Datensatz/0_Training_Datensatz/1_40_Spulen/Modelle/VGG16_binaryClassification_v1.hdf5\"\n",
    "#save_logs_path = \"D:/MA_Yijie_Ma/0_Datensatz/0_Training_Datensatz/1_40_Spulen/Logs/MultiOuput_Inception_4Outputs_v1_logs\"\n",
    "\n",
    "# path_Data: input the path of the folder, where the whole data is stored\n",
    "#path_Data=\"/content/drive/My Drive/MA/CNN_V1/CNN_V1_1_Binary/\"\n"
   ]
  },
  {
   "cell_type": "code",
   "execution_count": 3,
   "metadata": {},
   "outputs": [
    {
     "name": "stdout",
     "output_type": "stream",
     "text": [
      "last layer output shape:  (None, 14, 14, 512)\n",
      "Model: \"functional_1\"\n",
      "_________________________________________________________________\n",
      "Layer (type)                 Output Shape              Param #   \n",
      "=================================================================\n",
      "input_1 (InputLayer)         [(None, 224, 224, 3)]     0         \n",
      "_________________________________________________________________\n",
      "block1_conv1 (Conv2D)        (None, 224, 224, 64)      1792      \n",
      "_________________________________________________________________\n",
      "block1_conv2 (Conv2D)        (None, 224, 224, 64)      36928     \n",
      "_________________________________________________________________\n",
      "block1_pool (MaxPooling2D)   (None, 112, 112, 64)      0         \n",
      "_________________________________________________________________\n",
      "block2_conv1 (Conv2D)        (None, 112, 112, 128)     73856     \n",
      "_________________________________________________________________\n",
      "block2_conv2 (Conv2D)        (None, 112, 112, 128)     147584    \n",
      "_________________________________________________________________\n",
      "block2_pool (MaxPooling2D)   (None, 56, 56, 128)       0         \n",
      "_________________________________________________________________\n",
      "block3_conv1 (Conv2D)        (None, 56, 56, 256)       295168    \n",
      "_________________________________________________________________\n",
      "block3_conv2 (Conv2D)        (None, 56, 56, 256)       590080    \n",
      "_________________________________________________________________\n",
      "block3_conv3 (Conv2D)        (None, 56, 56, 256)       590080    \n",
      "_________________________________________________________________\n",
      "block3_pool (MaxPooling2D)   (None, 28, 28, 256)       0         \n",
      "_________________________________________________________________\n",
      "block4_conv1 (Conv2D)        (None, 28, 28, 512)       1180160   \n",
      "_________________________________________________________________\n",
      "block4_conv2 (Conv2D)        (None, 28, 28, 512)       2359808   \n",
      "_________________________________________________________________\n",
      "block4_conv3 (Conv2D)        (None, 28, 28, 512)       2359808   \n",
      "_________________________________________________________________\n",
      "block4_pool (MaxPooling2D)   (None, 14, 14, 512)       0         \n",
      "_________________________________________________________________\n",
      "flatten (Flatten)            (None, 100352)            0         \n",
      "_________________________________________________________________\n",
      "dense (Dense)                (None, 1024)              102761472 \n",
      "_________________________________________________________________\n",
      "dropout (Dropout)            (None, 1024)              0         \n",
      "_________________________________________________________________\n",
      "0_inOrdnung (Dense)          (None, 1)                 1025      \n",
      "=================================================================\n",
      "Total params: 110,397,761\n",
      "Trainable params: 102,762,497\n",
      "Non-trainable params: 7,635,264\n",
      "_________________________________________________________________\n"
     ]
    }
   ],
   "source": [
    "# Using pretrained ResNet50 in the head of the Networks\n",
    "pre_trained_model = VGG16(input_shape=(224, 224, 3),\n",
    "                                include_top=False,\n",
    "                                weights=\"imagenet\")\n",
    "\n",
    "for layer in pre_trained_model.layers:\n",
    "    layer.trainable = False\n",
    "\n",
    "last_layer = pre_trained_model.get_layer(\"block4_pool\")\n",
    "print('last layer output shape: ', last_layer.output_shape)\n",
    "last_output = last_layer.output\n",
    "\n",
    "# Flatten the output layer to 1 dimension\n",
    "x = layers.Flatten()(last_output)\n",
    "# Add a fully connected layer with 1,024 hidden units and ReLU activation\n",
    "x = layers.Dense(1024, activation=\"relu\")(x)\n",
    "# Add a dropout rate of 0.2\n",
    "x = layers.Dropout(0.2)(x)\n",
    "# Add 4 final sigmoid layer for classification\n",
    "\n",
    "inOrdnung = layers.Dense(1, activation='sigmoid', name=\"0_inOrdnung\")(x)\n",
    "\n",
    "model = Model(pre_trained_model.input, inOrdnung)\n",
    "model.compile(optimizer=RMSprop(lr=0.001, decay=1e-6),\n",
    "              loss=\"binary_crossentropy\",\n",
    "              metrics=\"accuracy\")\n",
    "\n",
    "model.summary()"
   ]
  },
  {
   "cell_type": "code",
   "execution_count": 4,
   "metadata": {},
   "outputs": [
    {
     "name": "stdout",
     "output_type": "stream",
     "text": [
      "Found 32336 validated image filenames belonging to 2 classes.\n",
      "Found 5706 validated image filenames belonging to 2 classes.\n"
     ]
    }
   ],
   "source": [
    "df = pd.read_csv(label_path)\n",
    "df[\"Quality_Binary\"] = df[\"Quality_Binary\"].astype(\"str\")\n",
    "\n",
    "###.....................................................\n",
    "\n",
    "df = df.sample(frac=1, random_state=1235).reset_index(drop=True)\n",
    "\n",
    "###.....................................................\n",
    "\n",
    "columns = \"Quality_Binary\"\n",
    "\n",
    "datagen = ImageDataGenerator(rescale=1. / 255., validation_split=0.15)\n",
    "# train_datagen=ImageDataGenerator(rescale=1./255.)\n",
    "# valid_datagen=ImageDataGenerator(rescale=1./255.)\n",
    "\n",
    "train_generator = datagen.flow_from_dataframe(\n",
    "    dataframe=df,\n",
    "    directory=src_path,\n",
    "    x_col=\"Image\",\n",
    "    y_col=columns,\n",
    "    subset=\"training\",\n",
    "    batch_size=64,\n",
    "    shuffle=True,\n",
    "    class_mode=\"binary\",\n",
    "    target_size=(224, 224))\n",
    "\n",
    "valid_generator = datagen.flow_from_dataframe(\n",
    "    dataframe=df,\n",
    "    directory=src_path,\n",
    "    x_col=\"Image\",\n",
    "    y_col=columns,\n",
    "    subset=\"validation\",\n",
    "    batch_size=64,\n",
    "    shuffle=True,\n",
    "    class_mode=\"binary\",\n",
    "    target_size=(224, 224))\n"
   ]
  },
  {
   "cell_type": "code",
   "execution_count": 8,
   "metadata": {},
   "outputs": [
    {
     "name": "stdout",
     "output_type": "stream",
     "text": [
      "WARNING:tensorflow:From <ipython-input-8-8e9f9ccaaf2b>:37: Model.fit_generator (from tensorflow.python.keras.engine.training) is deprecated and will be removed in a future version.\n",
      "Instructions for updating:\n",
      "Please use Model.fit, which supports generators.\n",
      "Epoch 1/2000\n",
      "WARNING:tensorflow:AutoGraph could not transform <function Model.make_train_function.<locals>.train_function at 0x000001CBA6ECBF78> and will run it as-is.\n",
      "Please report this to the TensorFlow team. When filing the bug, set the verbosity to 10 (on Linux, `export AUTOGRAPH_VERBOSITY=10`) and attach the full output.\n",
      "Cause: 'arguments' object has no attribute 'posonlyargs'\n",
      "To silence this warning, decorate the function with @tf.autograph.experimental.do_not_convert\n",
      "WARNING: AutoGraph could not transform <function Model.make_train_function.<locals>.train_function at 0x000001CBA6ECBF78> and will run it as-is.\n",
      "Please report this to the TensorFlow team. When filing the bug, set the verbosity to 10 (on Linux, `export AUTOGRAPH_VERBOSITY=10`) and attach the full output.\n",
      "Cause: 'arguments' object has no attribute 'posonlyargs'\n",
      "To silence this warning, decorate the function with @tf.autograph.experimental.do_not_convert\n",
      "505/505 [==============================] - ETA: 0s - loss: 8.2627 - accuracy: 0.8089WARNING:tensorflow:AutoGraph could not transform <function Model.make_test_function.<locals>.test_function at 0x000001CBF4A6EE58> and will run it as-is.\n",
      "Please report this to the TensorFlow team. When filing the bug, set the verbosity to 10 (on Linux, `export AUTOGRAPH_VERBOSITY=10`) and attach the full output.\n",
      "Cause: 'arguments' object has no attribute 'posonlyargs'\n",
      "To silence this warning, decorate the function with @tf.autograph.experimental.do_not_convert\n",
      "WARNING: AutoGraph could not transform <function Model.make_test_function.<locals>.test_function at 0x000001CBF4A6EE58> and will run it as-is.\n",
      "Please report this to the TensorFlow team. When filing the bug, set the verbosity to 10 (on Linux, `export AUTOGRAPH_VERBOSITY=10`) and attach the full output.\n",
      "Cause: 'arguments' object has no attribute 'posonlyargs'\n",
      "To silence this warning, decorate the function with @tf.autograph.experimental.do_not_convert\n",
      "505/505 [==============================] - 495s 979ms/step - loss: 8.2627 - accuracy: 0.8089 - val_loss: 0.1598 - val_accuracy: 0.9431\n",
      "Epoch 2/2000\n",
      "505/505 [==============================] - 491s 971ms/step - loss: 0.3063 - accuracy: 0.9109 - val_loss: 0.0881 - val_accuracy: 0.9644\n",
      "Epoch 3/2000\n",
      "505/505 [==============================] - 477s 945ms/step - loss: 0.1675 - accuracy: 0.9439 - val_loss: 0.0897 - val_accuracy: 0.9652\n",
      "Epoch 4/2000\n",
      "505/505 [==============================] - 479s 949ms/step - loss: 0.1352 - accuracy: 0.9564 - val_loss: 0.0676 - val_accuracy: 0.9740\n",
      "Epoch 5/2000\n",
      "505/505 [==============================] - 477s 945ms/step - loss: 0.1084 - accuracy: 0.9650 - val_loss: 0.0451 - val_accuracy: 0.9816\n",
      "Epoch 6/2000\n",
      "505/505 [==============================] - 483s 956ms/step - loss: 0.0896 - accuracy: 0.9715 - val_loss: 0.0227 - val_accuracy: 0.9925\n",
      "Epoch 7/2000\n",
      "505/505 [==============================] - 473s 936ms/step - loss: 0.0793 - accuracy: 0.9754 - val_loss: 0.0277 - val_accuracy: 0.9907\n",
      "Epoch 8/2000\n",
      "505/505 [==============================] - 473s 937ms/step - loss: 0.0690 - accuracy: 0.9780 - val_loss: 0.0228 - val_accuracy: 0.9909\n",
      "Epoch 9/2000\n",
      "505/505 [==============================] - 477s 945ms/step - loss: 0.0688 - accuracy: 0.9793 - val_loss: 0.0263 - val_accuracy: 0.9903\n",
      "Epoch 10/2000\n",
      "505/505 [==============================] - 480s 950ms/step - loss: 0.0255 - accuracy: 0.9929 - val_loss: 0.0170 - val_accuracy: 0.9958\n",
      "Epoch 11/2000\n",
      "505/505 [==============================] - 479s 949ms/step - loss: 0.0231 - accuracy: 0.9934 - val_loss: 0.0169 - val_accuracy: 0.9953\n",
      "Epoch 12/2000\n",
      "505/505 [==============================] - 477s 945ms/step - loss: 0.0211 - accuracy: 0.9932 - val_loss: 0.0134 - val_accuracy: 0.9953\n",
      "Epoch 13/2000\n",
      "505/505 [==============================] - 482s 954ms/step - loss: 0.0203 - accuracy: 0.9945 - val_loss: 0.0142 - val_accuracy: 0.9954\n",
      "Epoch 14/2000\n",
      "505/505 [==============================] - 476s 942ms/step - loss: 0.0201 - accuracy: 0.9945 - val_loss: 0.0173 - val_accuracy: 0.9951\n",
      "Epoch 15/2000\n",
      "505/505 [==============================] - 474s 939ms/step - loss: 0.0187 - accuracy: 0.9945 - val_loss: 0.0184 - val_accuracy: 0.9928\n",
      "Epoch 16/2000\n",
      "505/505 [==============================] - 475s 941ms/step - loss: 0.0153 - accuracy: 0.9957 - val_loss: 0.0134 - val_accuracy: 0.9970\n",
      "Epoch 17/2000\n",
      "505/505 [==============================] - ETA: 0s - loss: 0.0171 - accuracy: 0.9959Restoring model weights from the end of the best epoch.\n",
      "505/505 [==============================] - 481s 952ms/step - loss: 0.0171 - accuracy: 0.9959 - val_loss: 0.0138 - val_accuracy: 0.9960\n",
      "Epoch 00017: early stopping\n"
     ]
    }
   ],
   "source": [
    "# Using EarlyStopping Callbacks \n",
    "earlystopping = EarlyStopping(\n",
    "    patience=5,\n",
    "    min_delta=0,\n",
    "    mode='min',\n",
    "    monitor='val_loss',\n",
    "    restore_best_weights=True,\n",
    "    verbose=1)\n",
    "\n",
    "# Using Tesorboard Callbacks\n",
    "# tensorboard_callback = TensorBoard(log_dir=save_logs_path)\n",
    "\n",
    "# Using ReduceLROnPlateau Callbacks\n",
    "reduce_lr = ReduceLROnPlateau(monitor=\"val_loss\", factor=0.2,\n",
    "                              patience=3, min_lr=0.0001)\n",
    "\n",
    "# Using Checkpoint Callbacks\n",
    "checkpoint_filepath = saveModel_path\n",
    "checkpoint = tf.keras.callbacks.ModelCheckpoint(\n",
    "    filepath=checkpoint_filepath,\n",
    "    verbose=0,\n",
    "    save_weights_only=True,\n",
    "    monitor='val_loss',\n",
    "    mode='min',\n",
    "    save_best_only=True,\n",
    "    save_freq='epoch')\n",
    "\n",
    "STEP_SIZE_TRAIN = train_generator.n // train_generator.batch_size\n",
    "STEP_SIZE_VALID = valid_generator.n // valid_generator.batch_size\n",
    "\n",
    "history = model.fit_generator(train_generator,\n",
    "                              steps_per_epoch=STEP_SIZE_TRAIN,\n",
    "                              epochs=2000,\n",
    "                              verbose=1,\n",
    "                              callbacks=[earlystopping, reduce_lr, checkpoint],\n",
    "                              validation_data=valid_generator,\n",
    "                              validation_steps=STEP_SIZE_VALID)"
   ]
  },
  {
   "cell_type": "markdown",
   "metadata": {},
   "source": [
    "# Evaluate and Plot"
   ]
  },
  {
   "cell_type": "code",
   "execution_count": 9,
   "metadata": {
    "colab": {
     "base_uri": "https://localhost:8080/",
     "height": 562
    },
    "colab_type": "code",
    "executionInfo": {
     "elapsed": 912,
     "status": "ok",
     "timestamp": 1595322806568,
     "user": {
      "displayName": "Yijie Ma",
      "photoUrl": "",
      "userId": "09788293913722149866"
     },
     "user_tz": -120
    },
    "id": "P6Now1jQ-6dv",
    "outputId": "1a67c42d-4a75-46c8-a933-e5b499b20834"
   },
   "outputs": [
    {
     "data": {
      "image/png": "[encoded data removed]",
      "text/plain": [
       "<Figure size 432x288 with 1 Axes>"
      ]
     },
     "metadata": {
      "needs_background": "light"
     },
     "output_type": "display_data"
    },
    {
     "data": {
      "image/png": "[encoded data removed]",
      "text/plain": [
       "<Figure size 432x288 with 1 Axes>"
      ]
     },
     "metadata": {
      "needs_background": "light"
     },
     "output_type": "display_data"
    }
   ],
   "source": [
    "def plot_history(history):\n",
    "    loss_list = [s for s in history.history.keys() if 'loss' in s and 'val' not in s]\n",
    "    val_loss_list = [s for s in history.history.keys() if 'loss' in s and 'val' in s]\n",
    "    acc_list = [s for s in history.history.keys() if 'acc' in s and 'val' not in s]\n",
    "    val_acc_list = [s for s in history.history.keys() if 'acc' in s and 'val' in s]\n",
    "    \n",
    "    if len(loss_list) == 0:\n",
    "        print('Loss is missing in history')\n",
    "        return \n",
    "    \n",
    "    ## As loss always exists\n",
    "    epochs = range(1,len(history.history[loss_list[0]]) + 1)\n",
    "    \n",
    "    ## Loss\n",
    "    plt.figure(1)\n",
    "    for l in loss_list:\n",
    "        plt.plot(epochs, history.history[l],  label= str(l) + '(' + str(str(format(history.history[l][-1],'.5f'))+')'))\n",
    "    for l in val_loss_list:\n",
    "        plt.plot(epochs, history.history[l],  label= str(l) + '(' + str(str(format(history.history[l][-1],'.5f'))+')'))\n",
    "    \n",
    "    plt.legend(bbox_to_anchor=(1.,.5),loc = \"center left\")\n",
    "    plt.title(\"Loss\", fontsize = 14)\n",
    "    plt.xlabel(\"Epochs →\", fontsize = 14)\n",
    "    plt.ylabel(\"Loss →\", fontsize = 14)\n",
    "    plt.savefig(\"VGG16binaryClassificationLoss.jpg\", dpi = 300, bbox_inches = 'tight')\n",
    "   \n",
    "    \n",
    "    ## Accuracy\n",
    "    plt.figure(2)\n",
    "    for l in acc_list:\n",
    "        plt.plot(epochs, history.history[l],  label= str(l) + '(' + str(format(history.history[l][-1],'.5f'))+')')\n",
    "    for l in val_acc_list:    \n",
    "        plt.plot(epochs, history.history[l],  label= str(l) + '(' + str(format(history.history[l][-1],'.5f'))+')')\n",
    "\n",
    "    plt.legend(bbox_to_anchor=(1.,.5),loc = \"center left\") \n",
    "    plt.title('Accuracy')\n",
    "    plt.xlabel(\"Epochs →\", fontsize = 14)\n",
    "    plt.ylabel(\"Accuracy →\", fontsize = 14)\n",
    "    \n",
    "    plt.savefig(\"VGG16binaryClassificationAccurracy.jpg\", dpi = 300, bbox_inches = 'tight')\n",
    "    plt.show()\n",
    "    \n",
    "plot_history(history)"
   ]
  },
  {
   "cell_type": "code",
   "execution_count": 10,
   "metadata": {},
   "outputs": [
    {
     "name": "stdout",
     "output_type": "stream",
     "text": [
      "Found 5706 validated image filenames belonging to 2 classes.\n",
      "WARNING:tensorflow:From <ipython-input-10-b0ed826ddd53>:12: Model.predict_generator (from tensorflow.python.keras.engine.training) is deprecated and will be removed in a future version.\n",
      "Instructions for updating:\n",
      "Please use Model.predict, which supports generators.\n",
      "WARNING:tensorflow:AutoGraph could not transform <function Model.make_predict_function.<locals>.predict_function at 0x000001CD7A921C18> and will run it as-is.\n",
      "Please report this to the TensorFlow team. When filing the bug, set the verbosity to 10 (on Linux, `export AUTOGRAPH_VERBOSITY=10`) and attach the full output.\n",
      "Cause: 'arguments' object has no attribute 'posonlyargs'\n",
      "To silence this warning, decorate the function with @tf.autograph.experimental.do_not_convert\n",
      "WARNING: AutoGraph could not transform <function Model.make_predict_function.<locals>.predict_function at 0x000001CD7A921C18> and will run it as-is.\n",
      "Please report this to the TensorFlow team. When filing the bug, set the verbosity to 10 (on Linux, `export AUTOGRAPH_VERBOSITY=10`) and attach the full output.\n",
      "Cause: 'arguments' object has no attribute 'posonlyargs'\n",
      "To silence this warning, decorate the function with @tf.autograph.experimental.do_not_convert\n",
      "5706/5706 [==============================] - 87s 15ms/step\n",
      "the shape of Y_true is:  (5706,)\n",
      "Y_true is:  [0 0 0 ... 1 1 0]\n",
      "the shape of Y_pred is:  (5706,)\n",
      "Y_pred is:  [0. 0. 0. ... 1. 1. 0.]\n"
     ]
    }
   ],
   "source": [
    "valid_generator_cm=datagen.flow_from_dataframe(\n",
    "dataframe=df,\n",
    "directory=src_path,\n",
    "x_col=\"Image\",\n",
    "y_col=columns,\n",
    "subset=\"validation\",\n",
    "batch_size=1,\n",
    "shuffle=False,\n",
    "class_mode=\"binary\",\n",
    "target_size=(224,224))\n",
    "\n",
    "Y_pred = model.predict_generator(valid_generator_cm, steps=valid_generator_cm.n, verbose = 1)\n",
    "Y_pred = np.squeeze(Y_pred, axis = 1)\n",
    "Y_pred = (Y_pred> 0.5).astype(int).astype(float)\n",
    "Y_pred = Y_pred.T\n",
    "\n",
    "Y_true = np.array(valid_generator_cm.labels)\n",
    "\n",
    "\n",
    "print(\"the shape of Y_true is: \", Y_true.shape)\n",
    "print(\"Y_true is: \", Y_true)\n",
    "print(\"the shape of Y_pred is: \", Y_pred.shape)\n",
    "print(\"Y_pred is: \", Y_pred)"
   ]
  },
  {
   "cell_type": "code",
   "execution_count": 11,
   "metadata": {
    "colab": {},
    "colab_type": "code",
    "id": "C1tqNhY4pizS"
   },
   "outputs": [
    {
     "name": "stdout",
     "output_type": "stream",
     "text": [
      "the confusion matrix is: \n",
      " [[2905   16]\n",
      " [  11 2774]]\n",
      "the shape of the confusion matrix is: \n",
      " (2, 2)\n",
      "Classification Report: \n",
      "\n",
      "              precision    recall  f1-score   support\n",
      "\n",
      "           0       1.00      0.99      1.00      2921\n",
      "           1       0.99      1.00      1.00      2785\n",
      "\n",
      "    accuracy                           1.00      5706\n",
      "   macro avg       1.00      1.00      1.00      5706\n",
      "weighted avg       1.00      1.00      1.00      5706\n",
      "\n"
     ]
    }
   ],
   "source": [
    "#draw the classification report and confusion matrix\n",
    "\n",
    "cm = confusion_matrix(Y_true, Y_pred)\n",
    "\n",
    "print(\"the confusion matrix is: \\n\", cm)\n",
    "print(\"the shape of the confusion matrix is: \\n\", cm.shape)\n",
    "\n",
    "print(\"Classification Report: \\n\")\n",
    "print(classification_report(Y_true, Y_pred))"
   ]
  },
  {
   "cell_type": "code",
   "execution_count": 12,
   "metadata": {},
   "outputs": [
    {
     "data": {
      "image/png": "[encoded data removed]",
      "text/plain": [
       "<Figure size 432x288 with 2 Axes>"
      ]
     },
     "metadata": {
      "needs_background": "light"
     },
     "output_type": "display_data"
    }
   ],
   "source": [
    "def plot_confusion_matrix(data, labels, title):\n",
    "    \"\"\"Plot confusion matrix using heatmap.\n",
    " \n",
    "    Args:\n",
    "        data (list of list): List of lists with confusion matrix data.\n",
    "        labels (list): Labels which will be plotted across x and y axis.\n",
    "        output_filename (str): Path to output file.\n",
    " \n",
    "    \"\"\"\n",
    "    seaborn.set(color_codes=True)\n",
    "    #plt.figure()\n",
    " \n",
    "    plt.title(title,fontsize = 14)\n",
    " \n",
    "    seaborn.set(font_scale=1.4)\n",
    "    ax = seaborn.heatmap(data, annot=True, cmap='Greens', vmax=2880, fmt =\".0f\", cbar_kws={'label': 'Scale'})\n",
    " \n",
    "    ax.set_xticklabels(labels, fontsize = 14)\n",
    "    ax.set_yticklabels(labels, fontsize = 14)\n",
    " \n",
    "    ax.set_xlabel(\"Predicted Label\", fontsize = 14)\n",
    "    ax.set_ylabel(\"True Label\", fontsize = 14)\n",
    "    \n",
    " \n",
    "# define data\n",
    "plt.figure()\n",
    "labels = [\"True\", \"False\"]\n",
    "title= \"\"\n",
    "plot_confusion_matrix(cm, labels, title)\n",
    "\n",
    "\n",
    "plt.imshow\n",
    "plt.savefig(\"VGG16binaryClassificationConfusionMatrix\", bbox_inches='tight', dpi=300)"
   ]
  },
  {
   "cell_type": "code",
   "execution_count": 5,
   "metadata": {},
   "outputs": [],
   "source": [
    "model.load_weights(saveModel_path)"
   ]
  },
  {
   "cell_type": "code",
   "execution_count": 6,
   "metadata": {},
   "outputs": [
    {
     "name": "stdout",
     "output_type": "stream",
     "text": [
      "Found 5706 validated image filenames belonging to 2 classes.\n",
      "WARNING:tensorflow:From <ipython-input-6-b0ed826ddd53>:12: Model.predict_generator (from tensorflow.python.keras.engine.training) is deprecated and will be removed in a future version.\n",
      "Instructions for updating:\n",
      "Please use Model.predict, which supports generators.\n",
      "WARNING:tensorflow:AutoGraph could not transform <function Model.make_predict_function.<locals>.predict_function at 0x000001C7EBA60558> and will run it as-is.\n",
      "Please report this to the TensorFlow team. When filing the bug, set the verbosity to 10 (on Linux, `export AUTOGRAPH_VERBOSITY=10`) and attach the full output.\n",
      "Cause: 'arguments' object has no attribute 'posonlyargs'\n",
      "To silence this warning, decorate the function with @tf.autograph.experimental.do_not_convert\n",
      "WARNING: AutoGraph could not transform <function Model.make_predict_function.<locals>.predict_function at 0x000001C7EBA60558> and will run it as-is.\n",
      "Please report this to the TensorFlow team. When filing the bug, set the verbosity to 10 (on Linux, `export AUTOGRAPH_VERBOSITY=10`) and attach the full output.\n",
      "Cause: 'arguments' object has no attribute 'posonlyargs'\n",
      "To silence this warning, decorate the function with @tf.autograph.experimental.do_not_convert\n",
      "5706/5706 [==============================] - 87s 15ms/step\n",
      "the shape of Y_true is:  (5706,)\n",
      "Y_true is:  [0 0 0 ... 1 1 0]\n",
      "the shape of Y_pred is:  (5706,)\n",
      "Y_pred is:  [0. 0. 0. ... 1. 1. 0.]\n"
     ]
    }
   ],
   "source": [
    "valid_generator_cm=datagen.flow_from_dataframe(\n",
    "dataframe=df,\n",
    "directory=src_path,\n",
    "x_col=\"Image\",\n",
    "y_col=columns,\n",
    "subset=\"validation\",\n",
    "batch_size=1,\n",
    "shuffle=False,\n",
    "class_mode=\"binary\",\n",
    "target_size=(224,224))\n",
    "\n",
    "Y_pred = model.predict_generator(valid_generator_cm, steps=valid_generator_cm.n, verbose = 1)\n",
    "Y_pred = np.squeeze(Y_pred, axis = 1)\n",
    "Y_pred = (Y_pred> 0.5).astype(int).astype(float)\n",
    "Y_pred = Y_pred.T\n",
    "\n",
    "Y_true = np.array(valid_generator_cm.labels)\n",
    "\n",
    "\n",
    "print(\"the shape of Y_true is: \", Y_true.shape)\n",
    "print(\"Y_true is: \", Y_true)\n",
    "print(\"the shape of Y_pred is: \", Y_pred.shape)\n",
    "print(\"Y_pred is: \", Y_pred)"
   ]
  },
  {
   "cell_type": "code",
   "execution_count": 7,
   "metadata": {},
   "outputs": [
    {
     "name": "stdout",
     "output_type": "stream",
     "text": [
      "the confusion matrix is: \n",
      " [[2905   16]\n",
      " [  11 2774]]\n",
      "the shape of the confusion matrix is: \n",
      " (2, 2)\n",
      "Classification Report: \n",
      "\n",
      "              precision    recall  f1-score   support\n",
      "\n",
      "           0     0.9962    0.9945    0.9954      2921\n",
      "           1     0.9943    0.9961    0.9952      2785\n",
      "\n",
      "    accuracy                         0.9953      5706\n",
      "   macro avg     0.9952    0.9953    0.9953      5706\n",
      "weighted avg     0.9953    0.9953    0.9953      5706\n",
      "\n"
     ]
    }
   ],
   "source": [
    "#draw the classification report and confusion matrix\n",
    "\n",
    "cm = confusion_matrix(Y_true, Y_pred)\n",
    "\n",
    "print(\"the confusion matrix is: \\n\", cm)\n",
    "print(\"the shape of the confusion matrix is: \\n\", cm.shape)\n",
    "\n",
    "print(\"Classification Report: \\n\")\n",
    "print(classification_report(Y_true, Y_pred, digits=4))"
   ]
  },
  {
   "cell_type": "code",
   "execution_count": 8,
   "metadata": {},
   "outputs": [
    {
     "data": {
      "image/png": "[encoded data removed]",
      "text/plain": [
       "<Figure size 425.197x340.157 with 2 Axes>"
      ]
     },
     "metadata": {
      "needs_background": "light"
     },
     "output_type": "display_data"
    }
   ],
   "source": [
    "import matplotlib.pyplot as plt\n",
    "import numpy as np\n",
    "\n",
    "def show_values(pc, fmt=\"%.2f\", **kw):\n",
    "    '''\n",
    "    Heatmap with text in each cell with matplotlib's pyplot\n",
    "    Source: https://stackoverflow.com/a/25074150/395857 \n",
    "    By HYRY\n",
    "    '''\n",
    "    pc.update_scalarmappable()\n",
    "    ax = pc.axes\n",
    "    #ax = pc.axes# FOR LATEST MATPLOTLIB\n",
    "    #Use zip BELOW IN PYTHON 3\n",
    "    for p, color, value in zip(pc.get_paths(), pc.get_facecolors(), pc.get_array()):\n",
    "        x, y = p.vertices[:-2, :].mean(0)\n",
    "        if np.all(color[:3] > 0.5):\n",
    "            color = (0.0, 0.0, 0.0)\n",
    "        else:\n",
    "            color = (1.0, 1.0, 1.0)\n",
    "        ax.text(x, y, fmt % value, ha=\"center\", va=\"center\", color=color, **kw)\n",
    "\n",
    "\n",
    "def cm2inch(*tupl):\n",
    "    '''\n",
    "    Specify figure size in centimeter in matplotlib\n",
    "    Source: https://stackoverflow.com/a/22787457/395857\n",
    "    By gns-ank\n",
    "    '''\n",
    "    inch = 2.54\n",
    "    if type(tupl[0]) == tuple:\n",
    "        return tuple(i/inch for i in tupl[0])\n",
    "    else:\n",
    "        return tuple(i/inch for i in tupl)\n",
    "\n",
    "\n",
    "def heatmap(AUC, title, xlabel, ylabel, xticklabels, yticklabels, figure_width=40, figure_height=20, correct_orientation=False, cmap='RdBu'):\n",
    "    '''\n",
    "    Inspired by:\n",
    "    - https://stackoverflow.com/a/16124677/395857 \n",
    "    - https://stackoverflow.com/a/25074150/395857\n",
    "    '''\n",
    "\n",
    "    # Plot it out\n",
    "    fig, ax = plt.subplots()    \n",
    "    #c = ax.pcolor(AUC, edgecolors='k', linestyle= 'dashed', linewidths=0.2, cmap='RdBu', vmin=0.0, vmax=1.0)\n",
    "    c = ax.pcolor(AUC, edgecolors='k', linestyle= 'dashed', linewidths=0.2, cmap=cmap, vmin=0.0, vmax=1.0)\n",
    "\n",
    "    # put the major ticks at the middle of each cell\n",
    "    ax.set_yticks(np.arange(AUC.shape[0]) + 0.5, minor=False)\n",
    "    ax.set_xticks(np.arange(AUC.shape[1]) + 0.5, minor=False)\n",
    "\n",
    "    # set tick labels\n",
    "    #ax.set_xticklabels(np.arange(1,AUC.shape[1]+1), minor=False)\n",
    "    ax.set_xticklabels(xticklabels, minor=False)\n",
    "    ax.set_yticklabels(yticklabels, minor=False)\n",
    "\n",
    "    # set title and x/y labels\n",
    "    plt.title(title, y=1.25)\n",
    "    plt.xlabel(xlabel)\n",
    "    plt.ylabel(ylabel)      \n",
    "\n",
    "    # Remove last blank column\n",
    "    plt.xlim( (0, AUC.shape[1]) )\n",
    "\n",
    "    # Turn off all the ticks\n",
    "    ax = plt.gca()    \n",
    "    for t in ax.xaxis.get_major_ticks():\n",
    "        t.tick1line.set_visible(False)\n",
    "        t.tick2line.set_visible(False)\n",
    "    for t in ax.yaxis.get_major_ticks():\n",
    "        t.tick1line.set_visible(False)\n",
    "        t.tick2line.set_visible(False)\n",
    "\n",
    "    # Add color bar\n",
    "    plt.colorbar(c)\n",
    "\n",
    "    # Add text in each cell \n",
    "    show_values(c)\n",
    "\n",
    "    # Proper orientation (origin at the top left instead of bottom left)\n",
    "    if correct_orientation:\n",
    "        ax.invert_yaxis()\n",
    "        ax.xaxis.tick_top()       \n",
    "\n",
    "    # resize \n",
    "    fig = plt.gcf()\n",
    "    #fig.set_size_inches(cm2inch(40, 20))\n",
    "    #fig.set_size_inches(cm2inch(40*4, 20*4))\n",
    "    fig.set_size_inches(cm2inch(figure_width, figure_height))\n",
    "\n",
    "\n",
    "\n",
    "def plot_classification_report(classification_report, number_of_classes=2, title='Classification report ', cmap='RdYlGn'):\n",
    "    '''\n",
    "    Plot scikit-learn classification report.\n",
    "    Extension based on https://stackoverflow.com/a/31689645/395857 \n",
    "    '''\n",
    "    lines = classification_report.split('\\n')\n",
    "\n",
    "    #drop initial lines\n",
    "    lines = lines[2:]\n",
    "\n",
    "    classes = []\n",
    "    plotMat = []\n",
    "    support = []\n",
    "    class_names = []\n",
    "    for line in lines[: number_of_classes]:\n",
    "        t = list(filter(None, line.strip().split('  ')))\n",
    "        if len(t) < 4: continue\n",
    "        classes.append(t[0])\n",
    "        v = [float(x) for x in t[1: len(t) - 1]]\n",
    "        support.append(int(t[-1]))\n",
    "        class_names.append(t[0])\n",
    "        plotMat.append(v)\n",
    "\n",
    "\n",
    "    xlabel = 'Metrics'\n",
    "    ylabel = 'Classes'\n",
    "    xticklabels = ['Precision', 'Recall', 'F1-score']\n",
    "    yticklabels = ['{0} ({1})'.format(class_names[idx], sup) for idx, sup  in enumerate(support)]\n",
    "    figure_width = 15\n",
    "    figure_height = len(class_names) + 8\n",
    "    correct_orientation = True\n",
    "    heatmap(np.array(plotMat), title, xlabel, ylabel, xticklabels, yticklabels, figure_width, figure_height, correct_orientation, cmap=cmap)\n",
    "    plt.savefig(\"VGG16_binaryClassification_CR_v1\", bbox_inches='tight', dpi=300)\n",
    "    plt.show()\n",
    "    \n",
    "    \n",
    "cr = classification_report(Y_true, Y_pred, digits=4)\n",
    "plot_classification_report(cr, number_of_classes= 20, title='Classification report ', cmap=plt.cm.gray)"
   ]
  },
  {
   "cell_type": "code",
   "execution_count": null,
   "metadata": {},
   "outputs": [],
   "source": []
  }
 ],
 "metadata": {
  "accelerator": "GPU",
  "colab": {
   "authorship_tag": "ABX9TyN1m/P7Zbsq0+/mC6dxVB46",
   "collapsed_sections": [],
   "machine_shape": "hm",
   "mount_file_id": "1cutEECcvsJJGa6bz9BSDojcs9Hax6uvq",
   "name": "CNN_V1_1_Binary.ipynb",
   "provenance": []
  },
  "kernelspec": {
   "display_name": "Python 3",
   "language": "python",
   "name": "python3"
  },
  "language_info": {
   "codemirror_mode": {
    "name": "ipython",
    "version": 3
   },
   "file_extension": ".py",
   "mimetype": "text/x-python",
   "name": "python",
   "nbconvert_exporter": "python",
   "pygments_lexer": "ipython3",
   "version": "3.7.9"
  }
 },
 "nbformat": 4,
 "nbformat_minor": 1
}
